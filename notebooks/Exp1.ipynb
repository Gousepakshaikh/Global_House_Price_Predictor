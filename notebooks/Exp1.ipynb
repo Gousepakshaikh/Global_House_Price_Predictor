{
 "cells": [
  {
   "cell_type": "code",
   "execution_count": 1,
   "id": "70dc41a8-1589-481f-85c6-536eeee763e9",
   "metadata": {},
   "outputs": [],
   "source": [
    "import pandas as pd"
   ]
  },
  {
   "cell_type": "code",
   "execution_count": 2,
   "id": "896e81a4-78f3-4722-ad4b-9ec4b1be0519",
   "metadata": {},
   "outputs": [],
   "source": [
    "df=pd.read_csv(\"global_house_purchase_dataset.csv\")"
   ]
  },
  {
   "cell_type": "code",
   "execution_count": 3,
   "id": "64a39c46-f828-4bd2-9860-d04078536a7c",
   "metadata": {
    "scrolled": true
   },
   "outputs": [
    {
     "data": {
      "text/html": [
       "<div>\n",
       "<style scoped>\n",
       "    .dataframe tbody tr th:only-of-type {\n",
       "        vertical-align: middle;\n",
       "    }\n",
       "\n",
       "    .dataframe tbody tr th {\n",
       "        vertical-align: top;\n",
       "    }\n",
       "\n",
       "    .dataframe thead th {\n",
       "        text-align: right;\n",
       "    }\n",
       "</style>\n",
       "<table border=\"1\" class=\"dataframe\">\n",
       "  <thead>\n",
       "    <tr style=\"text-align: right;\">\n",
       "      <th></th>\n",
       "      <th>Unnamed: 0</th>\n",
       "      <th>property_id</th>\n",
       "      <th>country</th>\n",
       "      <th>city</th>\n",
       "      <th>property_type</th>\n",
       "      <th>furnishing_status</th>\n",
       "      <th>property_size_sqft</th>\n",
       "      <th>price</th>\n",
       "      <th>constructed_year</th>\n",
       "      <th>previous_owners</th>\n",
       "      <th>...</th>\n",
       "      <th>customer_salary</th>\n",
       "      <th>loan_amount</th>\n",
       "      <th>loan_tenure_years</th>\n",
       "      <th>monthly_expenses</th>\n",
       "      <th>down_payment</th>\n",
       "      <th>emi_to_income_ratio</th>\n",
       "      <th>satisfaction_score</th>\n",
       "      <th>neighbourhood_rating</th>\n",
       "      <th>connectivity_score</th>\n",
       "      <th>decision</th>\n",
       "    </tr>\n",
       "  </thead>\n",
       "  <tbody>\n",
       "    <tr>\n",
       "      <th>0</th>\n",
       "      <td>0</td>\n",
       "      <td>50199</td>\n",
       "      <td>Canada</td>\n",
       "      <td>Montreal</td>\n",
       "      <td>Independent House</td>\n",
       "      <td>Unfurnished</td>\n",
       "      <td>2783</td>\n",
       "      <td>972064</td>\n",
       "      <td>1976</td>\n",
       "      <td>0</td>\n",
       "      <td>...</td>\n",
       "      <td>21960</td>\n",
       "      <td>619021</td>\n",
       "      <td>30</td>\n",
       "      <td>16965</td>\n",
       "      <td>353043</td>\n",
       "      <td>0.18</td>\n",
       "      <td>2</td>\n",
       "      <td>8</td>\n",
       "      <td>9</td>\n",
       "      <td>0</td>\n",
       "    </tr>\n",
       "    <tr>\n",
       "      <th>1</th>\n",
       "      <td>1</td>\n",
       "      <td>54477</td>\n",
       "      <td>USA</td>\n",
       "      <td>Chicago</td>\n",
       "      <td>Studio</td>\n",
       "      <td>Unfurnished</td>\n",
       "      <td>5456</td>\n",
       "      <td>2723798</td>\n",
       "      <td>2011</td>\n",
       "      <td>6</td>\n",
       "      <td>...</td>\n",
       "      <td>42205</td>\n",
       "      <td>1740436</td>\n",
       "      <td>15</td>\n",
       "      <td>14070</td>\n",
       "      <td>983362</td>\n",
       "      <td>0.36</td>\n",
       "      <td>9</td>\n",
       "      <td>3</td>\n",
       "      <td>3</td>\n",
       "      <td>1</td>\n",
       "    </tr>\n",
       "    <tr>\n",
       "      <th>2</th>\n",
       "      <td>2</td>\n",
       "      <td>70488</td>\n",
       "      <td>Australia</td>\n",
       "      <td>Brisbane</td>\n",
       "      <td>Independent House</td>\n",
       "      <td>Fully-Furnished</td>\n",
       "      <td>3891</td>\n",
       "      <td>1245574</td>\n",
       "      <td>1961</td>\n",
       "      <td>2</td>\n",
       "      <td>...</td>\n",
       "      <td>11145</td>\n",
       "      <td>1051276</td>\n",
       "      <td>15</td>\n",
       "      <td>3825</td>\n",
       "      <td>194298</td>\n",
       "      <td>0.82</td>\n",
       "      <td>9</td>\n",
       "      <td>4</td>\n",
       "      <td>9</td>\n",
       "      <td>0</td>\n",
       "    </tr>\n",
       "    <tr>\n",
       "      <th>3</th>\n",
       "      <td>3</td>\n",
       "      <td>28338</td>\n",
       "      <td>China</td>\n",
       "      <td>Beijing</td>\n",
       "      <td>Villa</td>\n",
       "      <td>Fully-Furnished</td>\n",
       "      <td>4751</td>\n",
       "      <td>1806095</td>\n",
       "      <td>1985</td>\n",
       "      <td>4</td>\n",
       "      <td>...</td>\n",
       "      <td>86140</td>\n",
       "      <td>1204543</td>\n",
       "      <td>25</td>\n",
       "      <td>17410</td>\n",
       "      <td>601552</td>\n",
       "      <td>0.09</td>\n",
       "      <td>2</td>\n",
       "      <td>9</td>\n",
       "      <td>3</td>\n",
       "      <td>0</td>\n",
       "    </tr>\n",
       "    <tr>\n",
       "      <th>4</th>\n",
       "      <td>4</td>\n",
       "      <td>99655</td>\n",
       "      <td>India</td>\n",
       "      <td>Pune</td>\n",
       "      <td>Independent House</td>\n",
       "      <td>Semi-Furnished</td>\n",
       "      <td>2243</td>\n",
       "      <td>334871</td>\n",
       "      <td>1969</td>\n",
       "      <td>0</td>\n",
       "      <td>...</td>\n",
       "      <td>9434</td>\n",
       "      <td>149442</td>\n",
       "      <td>20</td>\n",
       "      <td>2301</td>\n",
       "      <td>185429</td>\n",
       "      <td>0.12</td>\n",
       "      <td>10</td>\n",
       "      <td>3</td>\n",
       "      <td>6</td>\n",
       "      <td>1</td>\n",
       "    </tr>\n",
       "    <tr>\n",
       "      <th>...</th>\n",
       "      <td>...</td>\n",
       "      <td>...</td>\n",
       "      <td>...</td>\n",
       "      <td>...</td>\n",
       "      <td>...</td>\n",
       "      <td>...</td>\n",
       "      <td>...</td>\n",
       "      <td>...</td>\n",
       "      <td>...</td>\n",
       "      <td>...</td>\n",
       "      <td>...</td>\n",
       "      <td>...</td>\n",
       "      <td>...</td>\n",
       "      <td>...</td>\n",
       "      <td>...</td>\n",
       "      <td>...</td>\n",
       "      <td>...</td>\n",
       "      <td>...</td>\n",
       "      <td>...</td>\n",
       "      <td>...</td>\n",
       "      <td>...</td>\n",
       "    </tr>\n",
       "    <tr>\n",
       "      <th>49995</th>\n",
       "      <td>49995</td>\n",
       "      <td>12335</td>\n",
       "      <td>Australia</td>\n",
       "      <td>Brisbane</td>\n",
       "      <td>Apartment</td>\n",
       "      <td>Semi-Furnished</td>\n",
       "      <td>939</td>\n",
       "      <td>299511</td>\n",
       "      <td>1992</td>\n",
       "      <td>3</td>\n",
       "      <td>...</td>\n",
       "      <td>24305</td>\n",
       "      <td>194842</td>\n",
       "      <td>10</td>\n",
       "      <td>19170</td>\n",
       "      <td>104669</td>\n",
       "      <td>0.09</td>\n",
       "      <td>3</td>\n",
       "      <td>8</td>\n",
       "      <td>3</td>\n",
       "      <td>0</td>\n",
       "    </tr>\n",
       "    <tr>\n",
       "      <th>49996</th>\n",
       "      <td>49996</td>\n",
       "      <td>163351</td>\n",
       "      <td>Brazil</td>\n",
       "      <td>São Paulo</td>\n",
       "      <td>Townhouse</td>\n",
       "      <td>Semi-Furnished</td>\n",
       "      <td>2607</td>\n",
       "      <td>521030</td>\n",
       "      <td>2015</td>\n",
       "      <td>5</td>\n",
       "      <td>...</td>\n",
       "      <td>28382</td>\n",
       "      <td>249640</td>\n",
       "      <td>10</td>\n",
       "      <td>9705</td>\n",
       "      <td>271390</td>\n",
       "      <td>0.10</td>\n",
       "      <td>3</td>\n",
       "      <td>6</td>\n",
       "      <td>2</td>\n",
       "      <td>0</td>\n",
       "    </tr>\n",
       "    <tr>\n",
       "      <th>49997</th>\n",
       "      <td>49997</td>\n",
       "      <td>65958</td>\n",
       "      <td>Australia</td>\n",
       "      <td>Melbourne</td>\n",
       "      <td>Apartment</td>\n",
       "      <td>Semi-Furnished</td>\n",
       "      <td>1618</td>\n",
       "      <td>513551</td>\n",
       "      <td>1961</td>\n",
       "      <td>3</td>\n",
       "      <td>...</td>\n",
       "      <td>72520</td>\n",
       "      <td>386442</td>\n",
       "      <td>10</td>\n",
       "      <td>18855</td>\n",
       "      <td>127109</td>\n",
       "      <td>0.06</td>\n",
       "      <td>5</td>\n",
       "      <td>2</td>\n",
       "      <td>8</td>\n",
       "      <td>0</td>\n",
       "    </tr>\n",
       "    <tr>\n",
       "      <th>49998</th>\n",
       "      <td>49998</td>\n",
       "      <td>195706</td>\n",
       "      <td>USA</td>\n",
       "      <td>New York</td>\n",
       "      <td>Villa</td>\n",
       "      <td>Fully-Furnished</td>\n",
       "      <td>4193</td>\n",
       "      <td>2101127</td>\n",
       "      <td>1961</td>\n",
       "      <td>5</td>\n",
       "      <td>...</td>\n",
       "      <td>42270</td>\n",
       "      <td>934891</td>\n",
       "      <td>10</td>\n",
       "      <td>18100</td>\n",
       "      <td>1166236</td>\n",
       "      <td>0.25</td>\n",
       "      <td>2</td>\n",
       "      <td>10</td>\n",
       "      <td>4</td>\n",
       "      <td>0</td>\n",
       "    </tr>\n",
       "    <tr>\n",
       "      <th>49999</th>\n",
       "      <td>49999</td>\n",
       "      <td>69974</td>\n",
       "      <td>Australia</td>\n",
       "      <td>Melbourne</td>\n",
       "      <td>Studio</td>\n",
       "      <td>Semi-Furnished</td>\n",
       "      <td>1883</td>\n",
       "      <td>606180</td>\n",
       "      <td>1990</td>\n",
       "      <td>4</td>\n",
       "      <td>...</td>\n",
       "      <td>26650</td>\n",
       "      <td>419425</td>\n",
       "      <td>20</td>\n",
       "      <td>5375</td>\n",
       "      <td>186755</td>\n",
       "      <td>0.12</td>\n",
       "      <td>2</td>\n",
       "      <td>5</td>\n",
       "      <td>8</td>\n",
       "      <td>0</td>\n",
       "    </tr>\n",
       "  </tbody>\n",
       "</table>\n",
       "<p>50000 rows × 26 columns</p>\n",
       "</div>"
      ],
      "text/plain": [
       "       Unnamed: 0  property_id    country       city      property_type  \\\n",
       "0               0        50199     Canada   Montreal  Independent House   \n",
       "1               1        54477        USA    Chicago             Studio   \n",
       "2               2        70488  Australia   Brisbane  Independent House   \n",
       "3               3        28338      China    Beijing              Villa   \n",
       "4               4        99655      India       Pune  Independent House   \n",
       "...           ...          ...        ...        ...                ...   \n",
       "49995       49995        12335  Australia   Brisbane          Apartment   \n",
       "49996       49996       163351     Brazil  São Paulo          Townhouse   \n",
       "49997       49997        65958  Australia  Melbourne          Apartment   \n",
       "49998       49998       195706        USA   New York              Villa   \n",
       "49999       49999        69974  Australia  Melbourne             Studio   \n",
       "\n",
       "      furnishing_status  property_size_sqft    price  constructed_year  \\\n",
       "0           Unfurnished                2783   972064              1976   \n",
       "1           Unfurnished                5456  2723798              2011   \n",
       "2       Fully-Furnished                3891  1245574              1961   \n",
       "3       Fully-Furnished                4751  1806095              1985   \n",
       "4        Semi-Furnished                2243   334871              1969   \n",
       "...                 ...                 ...      ...               ...   \n",
       "49995    Semi-Furnished                 939   299511              1992   \n",
       "49996    Semi-Furnished                2607   521030              2015   \n",
       "49997    Semi-Furnished                1618   513551              1961   \n",
       "49998   Fully-Furnished                4193  2101127              1961   \n",
       "49999    Semi-Furnished                1883   606180              1990   \n",
       "\n",
       "       previous_owners  ...  customer_salary  loan_amount  loan_tenure_years  \\\n",
       "0                    0  ...            21960       619021                 30   \n",
       "1                    6  ...            42205      1740436                 15   \n",
       "2                    2  ...            11145      1051276                 15   \n",
       "3                    4  ...            86140      1204543                 25   \n",
       "4                    0  ...             9434       149442                 20   \n",
       "...                ...  ...              ...          ...                ...   \n",
       "49995                3  ...            24305       194842                 10   \n",
       "49996                5  ...            28382       249640                 10   \n",
       "49997                3  ...            72520       386442                 10   \n",
       "49998                5  ...            42270       934891                 10   \n",
       "49999                4  ...            26650       419425                 20   \n",
       "\n",
       "       monthly_expenses  down_payment  emi_to_income_ratio  \\\n",
       "0                 16965        353043                 0.18   \n",
       "1                 14070        983362                 0.36   \n",
       "2                  3825        194298                 0.82   \n",
       "3                 17410        601552                 0.09   \n",
       "4                  2301        185429                 0.12   \n",
       "...                 ...           ...                  ...   \n",
       "49995             19170        104669                 0.09   \n",
       "49996              9705        271390                 0.10   \n",
       "49997             18855        127109                 0.06   \n",
       "49998             18100       1166236                 0.25   \n",
       "49999              5375        186755                 0.12   \n",
       "\n",
       "       satisfaction_score  neighbourhood_rating  connectivity_score  decision  \n",
       "0                       2                     8                   9         0  \n",
       "1                       9                     3                   3         1  \n",
       "2                       9                     4                   9         0  \n",
       "3                       2                     9                   3         0  \n",
       "4                      10                     3                   6         1  \n",
       "...                   ...                   ...                 ...       ...  \n",
       "49995                   3                     8                   3         0  \n",
       "49996                   3                     6                   2         0  \n",
       "49997                   5                     2                   8         0  \n",
       "49998                   2                    10                   4         0  \n",
       "49999                   2                     5                   8         0  \n",
       "\n",
       "[50000 rows x 26 columns]"
      ]
     },
     "execution_count": 3,
     "metadata": {},
     "output_type": "execute_result"
    }
   ],
   "source": [
    "df"
   ]
  },
  {
   "cell_type": "code",
   "execution_count": 4,
   "id": "e531e392-75d1-45df-92f0-b58eaf33d2e9",
   "metadata": {},
   "outputs": [],
   "source": [
    "df=df.sample(50000,ignore_index=True)"
   ]
  },
  {
   "cell_type": "code",
   "execution_count": 5,
   "id": "662ead12-a329-4337-ab81-b900cea98b96",
   "metadata": {},
   "outputs": [
    {
     "name": "stdout",
     "output_type": "stream",
     "text": [
      "<class 'pandas.core.frame.DataFrame'>\n",
      "RangeIndex: 50000 entries, 0 to 49999\n",
      "Data columns (total 26 columns):\n",
      " #   Column                   Non-Null Count  Dtype  \n",
      "---  ------                   --------------  -----  \n",
      " 0   Unnamed: 0               50000 non-null  int64  \n",
      " 1   property_id              50000 non-null  int64  \n",
      " 2   country                  50000 non-null  object \n",
      " 3   city                     50000 non-null  object \n",
      " 4   property_type            50000 non-null  object \n",
      " 5   furnishing_status        50000 non-null  object \n",
      " 6   property_size_sqft       50000 non-null  int64  \n",
      " 7   price                    50000 non-null  int64  \n",
      " 8   constructed_year         50000 non-null  int64  \n",
      " 9   previous_owners          50000 non-null  int64  \n",
      " 10  rooms                    50000 non-null  int64  \n",
      " 11  bathrooms                50000 non-null  int64  \n",
      " 12  garage                   50000 non-null  int64  \n",
      " 13  garden                   50000 non-null  int64  \n",
      " 14  crime_cases_reported     50000 non-null  int64  \n",
      " 15  legal_cases_on_property  50000 non-null  int64  \n",
      " 16  customer_salary          50000 non-null  int64  \n",
      " 17  loan_amount              50000 non-null  int64  \n",
      " 18  loan_tenure_years        50000 non-null  int64  \n",
      " 19  monthly_expenses         50000 non-null  int64  \n",
      " 20  down_payment             50000 non-null  int64  \n",
      " 21  emi_to_income_ratio      50000 non-null  float64\n",
      " 22  satisfaction_score       50000 non-null  int64  \n",
      " 23  neighbourhood_rating     50000 non-null  int64  \n",
      " 24  connectivity_score       50000 non-null  int64  \n",
      " 25  decision                 50000 non-null  int64  \n",
      "dtypes: float64(1), int64(21), object(4)\n",
      "memory usage: 9.9+ MB\n"
     ]
    }
   ],
   "source": [
    "df.info()"
   ]
  },
  {
   "cell_type": "code",
   "execution_count": 6,
   "id": "5def30da-76b1-4e00-924a-721601060f2d",
   "metadata": {},
   "outputs": [],
   "source": [
    "df=df.drop(columns=['property_id','down_payment','emi_to_income_ratio','decision','loan_amount','loan_tenure_years','customer_salary','city','crime_cases_reported','constructed_year','garage','satisfaction_score','legal_cases_on_property','connectivity_score'],axis=1)"
   ]
  },
  {
   "cell_type": "code",
   "execution_count": 7,
   "id": "678b04f3-b583-4288-b529-f7a7d81b9ce0",
   "metadata": {},
   "outputs": [
    {
     "data": {
      "text/plain": [
       "rooms                  -0.003765\n",
       "garden                 -0.000416\n",
       "neighbourhood_rating   -0.000288\n",
       "bathrooms              -0.000252\n",
       "previous_owners         0.000066\n",
       "Unnamed: 0              0.008543\n",
       "monthly_expenses        0.111132\n",
       "property_size_sqft      0.749136\n",
       "price                   1.000000\n",
       "Name: price, dtype: float64"
      ]
     },
     "execution_count": 7,
     "metadata": {},
     "output_type": "execute_result"
    }
   ],
   "source": [
    "df.corr(numeric_only=True)['price'].sort_values(ascending=True)"
   ]
  },
  {
   "cell_type": "code",
   "execution_count": 8,
   "id": "0d6a6320-19f9-45a9-8614-c68b451b650a",
   "metadata": {},
   "outputs": [
    {
     "data": {
      "text/html": [
       "<div>\n",
       "<style scoped>\n",
       "    .dataframe tbody tr th:only-of-type {\n",
       "        vertical-align: middle;\n",
       "    }\n",
       "\n",
       "    .dataframe tbody tr th {\n",
       "        vertical-align: top;\n",
       "    }\n",
       "\n",
       "    .dataframe thead th {\n",
       "        text-align: right;\n",
       "    }\n",
       "</style>\n",
       "<table border=\"1\" class=\"dataframe\">\n",
       "  <thead>\n",
       "    <tr style=\"text-align: right;\">\n",
       "      <th></th>\n",
       "      <th>Unnamed: 0</th>\n",
       "      <th>country</th>\n",
       "      <th>property_type</th>\n",
       "      <th>furnishing_status</th>\n",
       "      <th>property_size_sqft</th>\n",
       "      <th>price</th>\n",
       "      <th>previous_owners</th>\n",
       "      <th>rooms</th>\n",
       "      <th>bathrooms</th>\n",
       "      <th>garden</th>\n",
       "      <th>monthly_expenses</th>\n",
       "      <th>neighbourhood_rating</th>\n",
       "    </tr>\n",
       "  </thead>\n",
       "  <tbody>\n",
       "    <tr>\n",
       "      <th>0</th>\n",
       "      <td>6060</td>\n",
       "      <td>South Africa</td>\n",
       "      <td>Studio</td>\n",
       "      <td>Fully-Furnished</td>\n",
       "      <td>4112</td>\n",
       "      <td>745016</td>\n",
       "      <td>1</td>\n",
       "      <td>7</td>\n",
       "      <td>6</td>\n",
       "      <td>1</td>\n",
       "      <td>16115</td>\n",
       "      <td>2</td>\n",
       "    </tr>\n",
       "    <tr>\n",
       "      <th>1</th>\n",
       "      <td>32345</td>\n",
       "      <td>China</td>\n",
       "      <td>Farmhouse</td>\n",
       "      <td>Semi-Furnished</td>\n",
       "      <td>5649</td>\n",
       "      <td>2147772</td>\n",
       "      <td>4</td>\n",
       "      <td>3</td>\n",
       "      <td>2</td>\n",
       "      <td>1</td>\n",
       "      <td>4510</td>\n",
       "      <td>2</td>\n",
       "    </tr>\n",
       "    <tr>\n",
       "      <th>2</th>\n",
       "      <td>11625</td>\n",
       "      <td>UAE</td>\n",
       "      <td>Independent House</td>\n",
       "      <td>Unfurnished</td>\n",
       "      <td>3761</td>\n",
       "      <td>2257152</td>\n",
       "      <td>4</td>\n",
       "      <td>6</td>\n",
       "      <td>6</td>\n",
       "      <td>1</td>\n",
       "      <td>6890</td>\n",
       "      <td>8</td>\n",
       "    </tr>\n",
       "    <tr>\n",
       "      <th>3</th>\n",
       "      <td>34460</td>\n",
       "      <td>Singapore</td>\n",
       "      <td>Townhouse</td>\n",
       "      <td>Fully-Furnished</td>\n",
       "      <td>4328</td>\n",
       "      <td>3029730</td>\n",
       "      <td>6</td>\n",
       "      <td>7</td>\n",
       "      <td>4</td>\n",
       "      <td>1</td>\n",
       "      <td>16660</td>\n",
       "      <td>5</td>\n",
       "    </tr>\n",
       "    <tr>\n",
       "      <th>4</th>\n",
       "      <td>11679</td>\n",
       "      <td>China</td>\n",
       "      <td>Farmhouse</td>\n",
       "      <td>Fully-Furnished</td>\n",
       "      <td>821</td>\n",
       "      <td>307795</td>\n",
       "      <td>6</td>\n",
       "      <td>6</td>\n",
       "      <td>3</td>\n",
       "      <td>0</td>\n",
       "      <td>15115</td>\n",
       "      <td>8</td>\n",
       "    </tr>\n",
       "    <tr>\n",
       "      <th>...</th>\n",
       "      <td>...</td>\n",
       "      <td>...</td>\n",
       "      <td>...</td>\n",
       "      <td>...</td>\n",
       "      <td>...</td>\n",
       "      <td>...</td>\n",
       "      <td>...</td>\n",
       "      <td>...</td>\n",
       "      <td>...</td>\n",
       "      <td>...</td>\n",
       "      <td>...</td>\n",
       "      <td>...</td>\n",
       "    </tr>\n",
       "    <tr>\n",
       "      <th>49995</th>\n",
       "      <td>44349</td>\n",
       "      <td>UK</td>\n",
       "      <td>Townhouse</td>\n",
       "      <td>Semi-Furnished</td>\n",
       "      <td>554</td>\n",
       "      <td>225316</td>\n",
       "      <td>0</td>\n",
       "      <td>2</td>\n",
       "      <td>1</td>\n",
       "      <td>0</td>\n",
       "      <td>14470</td>\n",
       "      <td>2</td>\n",
       "    </tr>\n",
       "    <tr>\n",
       "      <th>49996</th>\n",
       "      <td>10177</td>\n",
       "      <td>Canada</td>\n",
       "      <td>Independent House</td>\n",
       "      <td>Fully-Furnished</td>\n",
       "      <td>1550</td>\n",
       "      <td>538872</td>\n",
       "      <td>1</td>\n",
       "      <td>4</td>\n",
       "      <td>2</td>\n",
       "      <td>1</td>\n",
       "      <td>13265</td>\n",
       "      <td>10</td>\n",
       "    </tr>\n",
       "    <tr>\n",
       "      <th>49997</th>\n",
       "      <td>45925</td>\n",
       "      <td>India</td>\n",
       "      <td>Villa</td>\n",
       "      <td>Semi-Furnished</td>\n",
       "      <td>3349</td>\n",
       "      <td>498403</td>\n",
       "      <td>4</td>\n",
       "      <td>8</td>\n",
       "      <td>6</td>\n",
       "      <td>0</td>\n",
       "      <td>665</td>\n",
       "      <td>10</td>\n",
       "    </tr>\n",
       "    <tr>\n",
       "      <th>49998</th>\n",
       "      <td>26290</td>\n",
       "      <td>France</td>\n",
       "      <td>Independent House</td>\n",
       "      <td>Unfurnished</td>\n",
       "      <td>2680</td>\n",
       "      <td>1124337</td>\n",
       "      <td>3</td>\n",
       "      <td>3</td>\n",
       "      <td>1</td>\n",
       "      <td>0</td>\n",
       "      <td>11160</td>\n",
       "      <td>10</td>\n",
       "    </tr>\n",
       "    <tr>\n",
       "      <th>49999</th>\n",
       "      <td>43911</td>\n",
       "      <td>South Africa</td>\n",
       "      <td>Studio</td>\n",
       "      <td>Semi-Furnished</td>\n",
       "      <td>928</td>\n",
       "      <td>165960</td>\n",
       "      <td>2</td>\n",
       "      <td>4</td>\n",
       "      <td>2</td>\n",
       "      <td>0</td>\n",
       "      <td>17860</td>\n",
       "      <td>9</td>\n",
       "    </tr>\n",
       "  </tbody>\n",
       "</table>\n",
       "<p>50000 rows × 12 columns</p>\n",
       "</div>"
      ],
      "text/plain": [
       "       Unnamed: 0       country      property_type furnishing_status  \\\n",
       "0            6060  South Africa             Studio   Fully-Furnished   \n",
       "1           32345         China          Farmhouse    Semi-Furnished   \n",
       "2           11625           UAE  Independent House       Unfurnished   \n",
       "3           34460     Singapore          Townhouse   Fully-Furnished   \n",
       "4           11679         China          Farmhouse   Fully-Furnished   \n",
       "...           ...           ...                ...               ...   \n",
       "49995       44349            UK          Townhouse    Semi-Furnished   \n",
       "49996       10177        Canada  Independent House   Fully-Furnished   \n",
       "49997       45925         India              Villa    Semi-Furnished   \n",
       "49998       26290        France  Independent House       Unfurnished   \n",
       "49999       43911  South Africa             Studio    Semi-Furnished   \n",
       "\n",
       "       property_size_sqft    price  previous_owners  rooms  bathrooms  garden  \\\n",
       "0                    4112   745016                1      7          6       1   \n",
       "1                    5649  2147772                4      3          2       1   \n",
       "2                    3761  2257152                4      6          6       1   \n",
       "3                    4328  3029730                6      7          4       1   \n",
       "4                     821   307795                6      6          3       0   \n",
       "...                   ...      ...              ...    ...        ...     ...   \n",
       "49995                 554   225316                0      2          1       0   \n",
       "49996                1550   538872                1      4          2       1   \n",
       "49997                3349   498403                4      8          6       0   \n",
       "49998                2680  1124337                3      3          1       0   \n",
       "49999                 928   165960                2      4          2       0   \n",
       "\n",
       "       monthly_expenses  neighbourhood_rating  \n",
       "0                 16115                     2  \n",
       "1                  4510                     2  \n",
       "2                  6890                     8  \n",
       "3                 16660                     5  \n",
       "4                 15115                     8  \n",
       "...                 ...                   ...  \n",
       "49995             14470                     2  \n",
       "49996             13265                    10  \n",
       "49997               665                    10  \n",
       "49998             11160                    10  \n",
       "49999             17860                     9  \n",
       "\n",
       "[50000 rows x 12 columns]"
      ]
     },
     "execution_count": 8,
     "metadata": {},
     "output_type": "execute_result"
    }
   ],
   "source": [
    "df"
   ]
  },
  {
   "cell_type": "code",
   "execution_count": 9,
   "id": "7b0196ec-e3b6-4ba0-90fa-28bcf7713bec",
   "metadata": {},
   "outputs": [
    {
     "data": {
      "text/plain": [
       "Unnamed: 0              0\n",
       "country                 0\n",
       "property_type           0\n",
       "furnishing_status       0\n",
       "property_size_sqft      0\n",
       "price                   0\n",
       "previous_owners         0\n",
       "rooms                   0\n",
       "bathrooms               0\n",
       "garden                  0\n",
       "monthly_expenses        0\n",
       "neighbourhood_rating    0\n",
       "dtype: int64"
      ]
     },
     "execution_count": 9,
     "metadata": {},
     "output_type": "execute_result"
    }
   ],
   "source": [
    "df.isnull().sum()"
   ]
  },
  {
   "cell_type": "code",
   "execution_count": 10,
   "id": "4c3b7883-3ab0-44be-a15f-0a071fb323c8",
   "metadata": {},
   "outputs": [
    {
     "data": {
      "text/plain": [
       "0"
      ]
     },
     "execution_count": 10,
     "metadata": {},
     "output_type": "execute_result"
    }
   ],
   "source": [
    "df.duplicated().sum()"
   ]
  },
  {
   "cell_type": "code",
   "execution_count": 11,
   "id": "187f6666-b966-4be4-a65b-33ad23eb57dd",
   "metadata": {},
   "outputs": [
    {
     "data": {
      "text/plain": [
       "previous_owners\n",
       "5    7214\n",
       "0    7196\n",
       "1    7192\n",
       "6    7131\n",
       "2    7099\n",
       "3    7097\n",
       "4    7071\n",
       "Name: count, dtype: int64"
      ]
     },
     "execution_count": 11,
     "metadata": {},
     "output_type": "execute_result"
    }
   ],
   "source": [
    "df['previous_owners'].value_counts()"
   ]
  },
  {
   "cell_type": "code",
   "execution_count": 11,
   "id": "e7f22ae7-bfd6-4804-ac1e-589902e0ed92",
   "metadata": {},
   "outputs": [
    {
     "data": {
      "text/plain": [
       "rooms\n",
       "8    6456\n",
       "1    6341\n",
       "6    6301\n",
       "7    6275\n",
       "3    6220\n",
       "4    6183\n",
       "5    6129\n",
       "2    6095\n",
       "Name: count, dtype: int64"
      ]
     },
     "execution_count": 11,
     "metadata": {},
     "output_type": "execute_result"
    }
   ],
   "source": [
    "df['rooms'].value_counts()"
   ]
  },
  {
   "cell_type": "code",
   "execution_count": 12,
   "id": "4e1a048a-caea-4787-83d5-a5d006e8f209",
   "metadata": {},
   "outputs": [
    {
     "data": {
      "text/plain": [
       "bathrooms\n",
       "1    17124\n",
       "2    10517\n",
       "3     7540\n",
       "4     5560\n",
       "5     4024\n",
       "6     2710\n",
       "7     1711\n",
       "8      814\n",
       "Name: count, dtype: int64"
      ]
     },
     "execution_count": 12,
     "metadata": {},
     "output_type": "execute_result"
    }
   ],
   "source": [
    "df['bathrooms'].value_counts()"
   ]
  },
  {
   "cell_type": "code",
   "execution_count": 13,
   "id": "446cdd86-297f-4329-941f-039298a6d26c",
   "metadata": {},
   "outputs": [
    {
     "data": {
      "text/plain": [
       "garden\n",
       "0    25179\n",
       "1    24821\n",
       "Name: count, dtype: int64"
      ]
     },
     "execution_count": 13,
     "metadata": {},
     "output_type": "execute_result"
    }
   ],
   "source": [
    "df['garden'].value_counts()"
   ]
  },
  {
   "cell_type": "code",
   "execution_count": 14,
   "id": "94bf0183-e2ad-4528-9059-79c75a6ca63c",
   "metadata": {},
   "outputs": [
    {
     "data": {
      "text/plain": [
       "neighbourhood_rating\n",
       "9     5192\n",
       "3     5048\n",
       "5     5039\n",
       "4     5036\n",
       "6     4990\n",
       "7     4983\n",
       "8     4969\n",
       "1     4957\n",
       "10    4930\n",
       "2     4856\n",
       "Name: count, dtype: int64"
      ]
     },
     "execution_count": 14,
     "metadata": {},
     "output_type": "execute_result"
    }
   ],
   "source": [
    "df['neighbourhood_rating'].value_counts()"
   ]
  },
  {
   "cell_type": "code",
   "execution_count": 12,
   "id": "63f06d42-4238-4867-89e6-517177840fb5",
   "metadata": {},
   "outputs": [
    {
     "data": {
      "text/plain": [
       "country\n",
       "China           4074\n",
       "Canada          3873\n",
       "USA             3868\n",
       "France          3866\n",
       "Singapore       3865\n",
       "Australia       3838\n",
       "South Africa    3836\n",
       "Japan           3836\n",
       "Brazil          3805\n",
       "India           3797\n",
       "UAE             3785\n",
       "UK              3783\n",
       "Germany         3774\n",
       "Name: count, dtype: int64"
      ]
     },
     "execution_count": 12,
     "metadata": {},
     "output_type": "execute_result"
    }
   ],
   "source": [
    "df['country'].value_counts()"
   ]
  },
  {
   "cell_type": "code",
   "execution_count": 14,
   "id": "e3192d42-148e-47e3-a0b1-7a8c793498bd",
   "metadata": {},
   "outputs": [
    {
     "data": {
      "text/plain": [
       "property_type\n",
       "Apartment            8508\n",
       "Townhouse            8396\n",
       "Villa                8384\n",
       "Studio               8294\n",
       "Independent House    8233\n",
       "Farmhouse            8185\n",
       "Name: count, dtype: int64"
      ]
     },
     "execution_count": 14,
     "metadata": {},
     "output_type": "execute_result"
    }
   ],
   "source": [
    "df['property_type'].value_counts()"
   ]
  },
  {
   "cell_type": "code",
   "execution_count": 15,
   "id": "4fd52408-1b80-45ba-93c9-3922057b6ec1",
   "metadata": {},
   "outputs": [
    {
     "data": {
      "text/plain": [
       "furnishing_status\n",
       "Fully-Furnished    16769\n",
       "Unfurnished        16705\n",
       "Semi-Furnished     16526\n",
       "Name: count, dtype: int64"
      ]
     },
     "execution_count": 15,
     "metadata": {},
     "output_type": "execute_result"
    }
   ],
   "source": [
    "df['furnishing_status'].value_counts()\n"
   ]
  },
  {
   "cell_type": "code",
   "execution_count": 16,
   "id": "534a7773-a38e-4fb0-b0fc-4152223af3b8",
   "metadata": {},
   "outputs": [
    {
     "data": {
      "text/html": [
       "<pre style=\"white-space:pre;overflow-x:auto;line-height:normal;font-family:Menlo,'DejaVu Sans Mono',consolas,'Courier New',monospace\">Initialized MLflow to track repo <span style=\"color: #008000; text-decoration-color: #008000\">\"Gousepakshaikh/Global_House_Price_Predictor\"</span>\n",
       "</pre>\n"
      ],
      "text/plain": [
       "Initialized MLflow to track repo \u001b[32m\"Gousepakshaikh/Global_House_Price_Predictor\"\u001b[0m\n"
      ]
     },
     "metadata": {},
     "output_type": "display_data"
    },
    {
     "data": {
      "text/html": [
       "<pre style=\"white-space:pre;overflow-x:auto;line-height:normal;font-family:Menlo,'DejaVu Sans Mono',consolas,'Courier New',monospace\">Repository Gousepakshaikh/Global_House_Price_Predictor initialized!\n",
       "</pre>\n"
      ],
      "text/plain": [
       "Repository Gousepakshaikh/Global_House_Price_Predictor initialized!\n"
      ]
     },
     "metadata": {},
     "output_type": "display_data"
    },
    {
     "name": "stdout",
     "output_type": "stream",
     "text": [
      "🏃 View run LR at: https://dagshub.com/Gousepakshaikh/Global_House_Price_Predictor.mlflow/#/experiments/1/runs/b113b0cdff674ce6aefaac675249935b\n",
      "🧪 View experiment at: https://dagshub.com/Gousepakshaikh/Global_House_Price_Predictor.mlflow/#/experiments/1\n",
      "🏃 View run XGB at: https://dagshub.com/Gousepakshaikh/Global_House_Price_Predictor.mlflow/#/experiments/1/runs/ddbd290900784ad49510cab442ff693a\n",
      "🧪 View experiment at: https://dagshub.com/Gousepakshaikh/Global_House_Price_Predictor.mlflow/#/experiments/1\n",
      "🏃 View run DT at: https://dagshub.com/Gousepakshaikh/Global_House_Price_Predictor.mlflow/#/experiments/1/runs/675e7fa5ae6344d2a92e0c6ed9106e24\n",
      "🧪 View experiment at: https://dagshub.com/Gousepakshaikh/Global_House_Price_Predictor.mlflow/#/experiments/1\n",
      "🏃 View run best-model at: https://dagshub.com/Gousepakshaikh/Global_House_Price_Predictor.mlflow/#/experiments/1/runs/657e26c6c6844ad69223c756c40c222c\n",
      "🧪 View experiment at: https://dagshub.com/Gousepakshaikh/Global_House_Price_Predictor.mlflow/#/experiments/1\n"
     ]
    }
   ],
   "source": [
    "import os\n",
    "import pickle\n",
    "import numpy as np\n",
    "import mlflow\n",
    "import dagshub\n",
    "from sklearn.model_selection import train_test_split\n",
    "from sklearn.preprocessing import OneHotEncoder\n",
    "from sklearn.compose import ColumnTransformer\n",
    "from sklearn.linear_model import LinearRegression\n",
    "from sklearn.tree import DecisionTreeRegressor\n",
    "from xgboost import XGBRFRegressor\n",
    "from sklearn.metrics import mean_absolute_error, mean_squared_error, r2_score, mean_absolute_percentage_error\n",
    "\n",
    "# --- MLflow + DagsHub setup ---\n",
    "CONFIG = {\n",
    "    \"TRACKING_URI\": \"https://dagshub.com/Gousepakshaikh/Global_House_Price_Predictor.mlflow\",\n",
    "    \"REPO_NAME\": \"Global_House_Price_Predictor\",\n",
    "    \"REPO_OWNER\": \"Gousepakshaikh\",\n",
    "    \"EXP_NAME\": \"EXP1\"\n",
    "}\n",
    "\n",
    "mlflow.set_tracking_uri(CONFIG[\"TRACKING_URI\"])\n",
    "dagshub.init(repo_name=CONFIG[\"REPO_NAME\"], repo_owner=CONFIG[\"REPO_OWNER\"], mlflow=True)\n",
    "mlflow.set_experiment(experiment_name=CONFIG[\"EXP_NAME\"])\n",
    "\n",
    "# --- Algorithms ---\n",
    "algorithms = {\n",
    "    \"LR\": LinearRegression(),\n",
    "    \"XGB\": XGBRFRegressor(),\n",
    "    \"DT\": DecisionTreeRegressor()\n",
    "}\n",
    "\n",
    "\n",
    "x = df.drop(columns=['price'])\n",
    "y = df['price']\n",
    "x_train, x_test, y_train, y_test = train_test_split(x, y, test_size=0.2, random_state=42)\n",
    "\n",
    "\n",
    "trans = ColumnTransformer(transformers=[\n",
    "    ('ohe', OneHotEncoder(drop='first', handle_unknown='ignore'),\n",
    "     ['country', 'property_type', 'furnishing_status'])\n",
    "], remainder='passthrough')\n",
    "\n",
    "ohe_x_train = trans.fit_transform(x_train)\n",
    "ohe_x_test = trans.transform(x_test)\n",
    "\n",
    "\n",
    "with mlflow.start_run(run_name='best-model') as parent:\n",
    "    for algo_name, algorithm in algorithms.items():\n",
    "        with mlflow.start_run(run_name=algo_name, nested=True):\n",
    "\n",
    "            # Train model\n",
    "            model = algorithm\n",
    "            model.fit(ohe_x_train, y_train)\n",
    "            preds = model.predict(ohe_x_test)\n",
    "\n",
    "            \n",
    "            metrics = {\n",
    "                \"MAE\": float(mean_absolute_error(y_test, preds)),\n",
    "                \"RMSE\": float(np.sqrt(mean_squared_error(y_test, preds))),\n",
    "                \"R2_Score\": float(r2_score(y_test, preds)),\n",
    "                \"MAPE\": float(mean_absolute_percentage_error(y_test, preds))\n",
    "            }\n",
    "\n",
    "            \n",
    "            mlflow.log_metrics(metrics)\n",
    "            mlflow.log_param(\"model\", algo_name)\n",
    "            if hasattr(model, \"get_params\"):\n",
    "                mlflow.log_params(model.get_params())\n",
    "\n",
    "            \n",
    "            os.makedirs('models', exist_ok=True)\n",
    "            model_path = f\"models/{algo_name}.pkl\"\n",
    "            with open(model_path, 'wb') as f:\n",
    "                pickle.dump(model, f)\n",
    "\n",
    "            mlflow.log_artifact(model_path)\n"
   ]
  },
  {
   "cell_type": "code",
   "execution_count": 17,
   "id": "77a9e3d3-f0d2-4722-8bd1-aacf1631697f",
   "metadata": {},
   "outputs": [
    {
     "name": "stdout",
     "output_type": "stream",
     "text": [
      "DecisionTreeRegressor()\n"
     ]
    }
   ],
   "source": [
    "print(model)"
   ]
  },
  {
   "cell_type": "code",
   "execution_count": 18,
   "id": "e5e9edb7-3a07-40a9-81cd-a28b220fa21c",
   "metadata": {},
   "outputs": [
    {
     "name": "stdout",
     "output_type": "stream",
     "text": [
      "{'MAE': 3639.435, 'RMSE': 4503.478791090283, 'R2_Score': 0.9999705015651128, 'MAPE': 0.005589940887170661}\n"
     ]
    }
   ],
   "source": [
    "print(metrics)"
   ]
  },
  {
   "cell_type": "code",
   "execution_count": 19,
   "id": "8a9de4f2-df29-4347-9eb2-a3133842e698",
   "metadata": {},
   "outputs": [
    {
     "data": {
      "text/plain": [
       "(50000, 11)"
      ]
     },
     "execution_count": 19,
     "metadata": {},
     "output_type": "execute_result"
    }
   ],
   "source": [
    "df.shape"
   ]
  },
  {
   "cell_type": "code",
   "execution_count": null,
   "id": "914e3497-7fa8-4484-bf96-ac5097c12c39",
   "metadata": {},
   "outputs": [],
   "source": []
  }
 ],
 "metadata": {
  "kernelspec": {
   "display_name": "Python 3 (ipykernel)",
   "language": "python",
   "name": "python3"
  },
  "language_info": {
   "codemirror_mode": {
    "name": "ipython",
    "version": 3
   },
   "file_extension": ".py",
   "mimetype": "text/x-python",
   "name": "python",
   "nbconvert_exporter": "python",
   "pygments_lexer": "ipython3",
   "version": "3.12.4"
  }
 },
 "nbformat": 4,
 "nbformat_minor": 5
}
